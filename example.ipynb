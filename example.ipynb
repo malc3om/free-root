{
 "cells": [
  {
   "cell_type": "markdown",
   "metadata": {},
   "source": [
    "# FreeRoot - Jupyter Notebook Example\n",
    "\n",
    "This notebook demonstrates how to use FreeRoot to gain root access in a Jupyter notebook environment.\n",
    "\n",
    "## Option 1: One-line execution (recommended)"
   ]
  },
  {
   "cell_type": "code",
   "execution_count": null,
   "metadata": {},
   "source": [
    "!pip install requests && python -c \"import requests; exec(requests.get('https://raw.githubusercontent.com/malc3om/free-root/main/freeroot.py').text)\""
   ]
  },
  {
   "cell_type": "markdown",
   "metadata": {},
   "source": [
    "## Option 2: Using the notebook runner"
   ]
  },
  {
   "cell_type": "code",
   "execution_count": null,
   "metadata": {},
   "source": [
    "import requests\n",
    "exec(requests.get('https://raw.githubusercontent.com/malc3om/free-root/main/notebook_runner.py').text)\n",
    "run_freeroot()"
   ]
  },
  {
   "cell_type": "markdown",
   "metadata": {},
   "source": [
    "## Option 3: Clone the repository and run locally"
   ]
  },
  {
   "cell_type": "code",
   "execution_count": null,
   "metadata": {},
   "source": [
    "!git clone https://github.com/malc3om/free-root.git\n",
    "%cd free-root\n",
    "!python freeroot.py"
   ]
  },
  {
   "cell_type": "markdown",
   "metadata": {},
   "source": [
    "## Verifying Root Access\n",
    "\n",
    "Once the shell opens, you can verify you have root access by running these commands:\n",
    "\n",
    "```bash\n",
    "whoami\n",
    "id\n",
    "```\n",
    "\n",
    "You should see that you are running as the root user."
   ]
  }
 ],
 "metadata": {
  "kernelspec": {
   "display_name": "Python 3",
   "language": "python",
   "name": "python3"
  },
  "language_info": {
   "codemirror_mode": {
    "name": "ipython",
    "version": 3
   },
   "file_extension": ".py",
   "mimetype": "text/x-python",
   "name": "python",
   "nbconvert_exporter": "python",
   "pygments_lexer": "ipython3",
   "version": "3.8.10"
  }
 },
 "nbformat": 4,
 "nbformat_minor": 4
}